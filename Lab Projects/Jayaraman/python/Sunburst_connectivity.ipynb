{
 "cells": [
  {
   "cell_type": "code",
   "execution_count": 1,
   "metadata": {},
   "outputs": [],
   "source": [
    "from neuprint import Client, fetch_custom\n",
    "import pandas as pd\n",
    "import plotly.express as px\n",
    "import json\n",
    "import numpy as np"
   ]
  },
  {
   "cell_type": "markdown",
   "metadata": {},
   "source": [
    "Make sure to download the ROI_hierarchy.csv and save it in the same folder as this file/specify the path"
   ]
  },
  {
   "cell_type": "markdown",
   "metadata": {},
   "source": [
    "# Specify the following in the next cell\n",
    "1. yout authentication token (found here: https://neuprint.janelia.org/account)\n",
    "2. add your query below     \n",
    "(data frame must contain an roiInfo column on a ConnectsTo edge, this code will not work on individual neurons)\n",
    "3. pick the roiInfo column from the resulting data frame that you want to plot\n"
   ]
  },
  {
   "cell_type": "code",
   "execution_count": 2,
   "metadata": {},
   "outputs": [],
   "source": [
    "# add your auth token here: token = 'abc123def456'\n",
    "token = ''\n",
    "\n",
    "\n",
    "# add you query here \n",
    "query = '''\n",
    "WITH [294800293,296514350,296838079,296855409,297908595,298944444,329638509,359637824,360319323,361364000,362715189,390667603,421698065,422742649,452029745,487523851,513784136,513788774,514807275,548907426,575845494,578936675,579268807,607933758,614081151,673746277,707539688,732034061,734801540,766864238,789308735,858587718,858604252,858933153,884916654,885262087,885262311,893741163,917647959,918334668,948709216,949710555,953414780,978366493,1008378448,1036637638,1050935614,1051980223,1168283924,1168625046,1169260589,1193560469,1224591253,1255289329,1261768644,1268568859,1417573898,5813087837,5813055913,5813020698,5813045216,5812980666,5813047763,5813062858,5813011125,5813010148,5813020684,5813071475,5813020735,5813055834,5813081818,5813049824,5813047647,5813020409,5813027016,5813078563] AS CX\n",
    "MATCH (a:Neuron)-[w:ConnectsTo]->(b:Neuron)-[ww:ConnectsTo]->(c:Neuron)\n",
    "WHERE a.bodyId IN [603785283,634759240,663432544,850717220,1639234609,1639243580,1727979406,1858901026,1881401277,1944502935,1975878958,5813063239,5813056072,5813040515]\n",
    "AND b.bodyId IN [357224041,389311717,667241165,511349908,5813055709,702364805,388881226,1723506321,388924424,5813020846,1671608112,1858901026,447599745,480258208,452689494,487144598,5813020673,5813022453,666916874,576825965,787227302,483720758]\n",
    "AND c.bodyId IN CX AND w.weight > 9 \n",
    "and ww.weight > 9\n",
    "RETURN a.bodyId, a.type, w.weight, w.roiInfo, b.bodyId, b.type, ww.weight, ww.roiInfo, c.bodyId, c.type\n",
    "'''\n",
    "\n",
    "# specify the roiInfo column whose data you want to plot\n",
    "# in the form: column = 'column_name'\n",
    "column = 'w.roiInfo'\n"
   ]
  },
  {
   "cell_type": "code",
   "execution_count": 3,
   "metadata": {},
   "outputs": [],
   "source": [
    "c = Client('neuprint-test.janelia.org', dataset='hemibrain', token = token, verify=True)\n"
   ]
  },
  {
   "cell_type": "code",
   "execution_count": 4,
   "metadata": {},
   "outputs": [
    {
     "data": {
      "text/html": [
       "<div>\n",
       "<style scoped>\n",
       "    .dataframe tbody tr th:only-of-type {\n",
       "        vertical-align: middle;\n",
       "    }\n",
       "\n",
       "    .dataframe tbody tr th {\n",
       "        vertical-align: top;\n",
       "    }\n",
       "\n",
       "    .dataframe thead th {\n",
       "        text-align: right;\n",
       "    }\n",
       "</style>\n",
       "<table border=\"1\" class=\"dataframe\">\n",
       "  <thead>\n",
       "    <tr style=\"text-align: right;\">\n",
       "      <th></th>\n",
       "      <th>a.bodyId</th>\n",
       "      <th>a.type</th>\n",
       "      <th>w.weight</th>\n",
       "      <th>w.roiInfo</th>\n",
       "      <th>b.bodyId</th>\n",
       "      <th>b.type</th>\n",
       "      <th>ww.weight</th>\n",
       "      <th>ww.roiInfo</th>\n",
       "      <th>c.bodyId</th>\n",
       "      <th>c.type</th>\n",
       "    </tr>\n",
       "  </thead>\n",
       "  <tbody>\n",
       "    <tr>\n",
       "      <th>0</th>\n",
       "      <td>1858901026</td>\n",
       "      <td>VP2+_adPN</td>\n",
       "      <td>30</td>\n",
       "      <td>{\"INP\": {\"pre\": 3, \"post\": 3}, \"ATL(R)\": {\"pre...</td>\n",
       "      <td>389311717</td>\n",
       "      <td>SMP188</td>\n",
       "      <td>13</td>\n",
       "      <td>{\"SNP(R)\": {\"pre\": 9, \"post\": 9}, \"SMP(R)\": {\"...</td>\n",
       "      <td>513784136</td>\n",
       "      <td>FB1G</td>\n",
       "    </tr>\n",
       "    <tr>\n",
       "      <th>1</th>\n",
       "      <td>1858901026</td>\n",
       "      <td>VP2+_adPN</td>\n",
       "      <td>30</td>\n",
       "      <td>{\"INP\": {\"pre\": 3, \"post\": 3}, \"ATL(R)\": {\"pre...</td>\n",
       "      <td>389311717</td>\n",
       "      <td>SMP188</td>\n",
       "      <td>13</td>\n",
       "      <td>{\"SNP(R)\": {\"pre\": 10, \"post\": 10}, \"SMP(R)\": ...</td>\n",
       "      <td>734801540</td>\n",
       "      <td>FB2D</td>\n",
       "    </tr>\n",
       "    <tr>\n",
       "      <th>2</th>\n",
       "      <td>1858901026</td>\n",
       "      <td>VP2+_adPN</td>\n",
       "      <td>30</td>\n",
       "      <td>{\"INP\": {\"pre\": 3, \"post\": 3}, \"ATL(R)\": {\"pre...</td>\n",
       "      <td>389311717</td>\n",
       "      <td>SMP188</td>\n",
       "      <td>66</td>\n",
       "      <td>{\"LX(R)\": {\"pre\": 27, \"post\": 27}, \"LAL(R)\": {...</td>\n",
       "      <td>858587718</td>\n",
       "      <td>ExR6</td>\n",
       "    </tr>\n",
       "    <tr>\n",
       "      <th>3</th>\n",
       "      <td>1858901026</td>\n",
       "      <td>VP2+_adPN</td>\n",
       "      <td>30</td>\n",
       "      <td>{\"INP\": {\"pre\": 3, \"post\": 3}, \"ATL(R)\": {\"pre...</td>\n",
       "      <td>389311717</td>\n",
       "      <td>SMP188</td>\n",
       "      <td>31</td>\n",
       "      <td>{\"INP\": {\"pre\": 9, \"post\": 9}, \"CRE(R)\": {\"pre...</td>\n",
       "      <td>858604252</td>\n",
       "      <td>FB2C</td>\n",
       "    </tr>\n",
       "    <tr>\n",
       "      <th>4</th>\n",
       "      <td>1858901026</td>\n",
       "      <td>VP2+_adPN</td>\n",
       "      <td>30</td>\n",
       "      <td>{\"INP\": {\"pre\": 3, \"post\": 3}, \"ATL(R)\": {\"pre...</td>\n",
       "      <td>389311717</td>\n",
       "      <td>SMP188</td>\n",
       "      <td>35</td>\n",
       "      <td>{\"SNP(R)\": {\"pre\": 28, \"post\": 28}, \"SIP(R)\": ...</td>\n",
       "      <td>5813010148</td>\n",
       "      <td>FB1F</td>\n",
       "    </tr>\n",
       "  </tbody>\n",
       "</table>\n",
       "</div>"
      ],
      "text/plain": [
       "     a.bodyId     a.type  w.weight  \\\n",
       "0  1858901026  VP2+_adPN        30   \n",
       "1  1858901026  VP2+_adPN        30   \n",
       "2  1858901026  VP2+_adPN        30   \n",
       "3  1858901026  VP2+_adPN        30   \n",
       "4  1858901026  VP2+_adPN        30   \n",
       "\n",
       "                                           w.roiInfo   b.bodyId  b.type  \\\n",
       "0  {\"INP\": {\"pre\": 3, \"post\": 3}, \"ATL(R)\": {\"pre...  389311717  SMP188   \n",
       "1  {\"INP\": {\"pre\": 3, \"post\": 3}, \"ATL(R)\": {\"pre...  389311717  SMP188   \n",
       "2  {\"INP\": {\"pre\": 3, \"post\": 3}, \"ATL(R)\": {\"pre...  389311717  SMP188   \n",
       "3  {\"INP\": {\"pre\": 3, \"post\": 3}, \"ATL(R)\": {\"pre...  389311717  SMP188   \n",
       "4  {\"INP\": {\"pre\": 3, \"post\": 3}, \"ATL(R)\": {\"pre...  389311717  SMP188   \n",
       "\n",
       "   ww.weight                                         ww.roiInfo    c.bodyId  \\\n",
       "0         13  {\"SNP(R)\": {\"pre\": 9, \"post\": 9}, \"SMP(R)\": {\"...   513784136   \n",
       "1         13  {\"SNP(R)\": {\"pre\": 10, \"post\": 10}, \"SMP(R)\": ...   734801540   \n",
       "2         66  {\"LX(R)\": {\"pre\": 27, \"post\": 27}, \"LAL(R)\": {...   858587718   \n",
       "3         31  {\"INP\": {\"pre\": 9, \"post\": 9}, \"CRE(R)\": {\"pre...   858604252   \n",
       "4         35  {\"SNP(R)\": {\"pre\": 28, \"post\": 28}, \"SIP(R)\": ...  5813010148   \n",
       "\n",
       "  c.type  \n",
       "0   FB1G  \n",
       "1   FB2D  \n",
       "2   ExR6  \n",
       "3   FB2C  \n",
       "4   FB1F  "
      ]
     },
     "execution_count": 4,
     "metadata": {},
     "output_type": "execute_result"
    }
   ],
   "source": [
    "df=fetch_custom(query)\n",
    "df.head()"
   ]
  },
  {
   "cell_type": "code",
   "execution_count": 5,
   "metadata": {
    "scrolled": true
   },
   "outputs": [
    {
     "data": {
      "text/html": [
       "<div>\n",
       "<style scoped>\n",
       "    .dataframe tbody tr th:only-of-type {\n",
       "        vertical-align: middle;\n",
       "    }\n",
       "\n",
       "    .dataframe tbody tr th {\n",
       "        vertical-align: top;\n",
       "    }\n",
       "\n",
       "    .dataframe thead th {\n",
       "        text-align: right;\n",
       "    }\n",
       "</style>\n",
       "<table border=\"1\" class=\"dataframe\">\n",
       "  <thead>\n",
       "    <tr style=\"text-align: right;\">\n",
       "      <th></th>\n",
       "      <th>a.bodyId</th>\n",
       "      <th>a.type</th>\n",
       "      <th>w.weight</th>\n",
       "      <th>w.roiInfo</th>\n",
       "      <th>b.bodyId</th>\n",
       "      <th>b.type</th>\n",
       "      <th>ww.weight</th>\n",
       "      <th>ww.roiInfo</th>\n",
       "      <th>c.bodyId</th>\n",
       "      <th>c.type</th>\n",
       "      <th>json1</th>\n",
       "    </tr>\n",
       "  </thead>\n",
       "  <tbody>\n",
       "    <tr>\n",
       "      <th>0</th>\n",
       "      <td>1858901026</td>\n",
       "      <td>VP2+_adPN</td>\n",
       "      <td>30</td>\n",
       "      <td>{\"INP\": {\"pre\": 3, \"post\": 3}, \"ATL(R)\": {\"pre...</td>\n",
       "      <td>389311717</td>\n",
       "      <td>SMP188</td>\n",
       "      <td>13</td>\n",
       "      <td>{\"SNP(R)\": {\"pre\": 9, \"post\": 9}, \"SMP(R)\": {\"...</td>\n",
       "      <td>513784136</td>\n",
       "      <td>FB1G</td>\n",
       "      <td>{'INP': {'pre': 3, 'post': 3}, 'ATL(R)': {'pre...</td>\n",
       "    </tr>\n",
       "    <tr>\n",
       "      <th>1</th>\n",
       "      <td>1858901026</td>\n",
       "      <td>VP2+_adPN</td>\n",
       "      <td>30</td>\n",
       "      <td>{\"INP\": {\"pre\": 3, \"post\": 3}, \"ATL(R)\": {\"pre...</td>\n",
       "      <td>389311717</td>\n",
       "      <td>SMP188</td>\n",
       "      <td>13</td>\n",
       "      <td>{\"SNP(R)\": {\"pre\": 10, \"post\": 10}, \"SMP(R)\": ...</td>\n",
       "      <td>734801540</td>\n",
       "      <td>FB2D</td>\n",
       "      <td>{'INP': {'pre': 3, 'post': 3}, 'ATL(R)': {'pre...</td>\n",
       "    </tr>\n",
       "    <tr>\n",
       "      <th>2</th>\n",
       "      <td>1858901026</td>\n",
       "      <td>VP2+_adPN</td>\n",
       "      <td>30</td>\n",
       "      <td>{\"INP\": {\"pre\": 3, \"post\": 3}, \"ATL(R)\": {\"pre...</td>\n",
       "      <td>389311717</td>\n",
       "      <td>SMP188</td>\n",
       "      <td>66</td>\n",
       "      <td>{\"LX(R)\": {\"pre\": 27, \"post\": 27}, \"LAL(R)\": {...</td>\n",
       "      <td>858587718</td>\n",
       "      <td>ExR6</td>\n",
       "      <td>{'INP': {'pre': 3, 'post': 3}, 'ATL(R)': {'pre...</td>\n",
       "    </tr>\n",
       "    <tr>\n",
       "      <th>3</th>\n",
       "      <td>1858901026</td>\n",
       "      <td>VP2+_adPN</td>\n",
       "      <td>30</td>\n",
       "      <td>{\"INP\": {\"pre\": 3, \"post\": 3}, \"ATL(R)\": {\"pre...</td>\n",
       "      <td>389311717</td>\n",
       "      <td>SMP188</td>\n",
       "      <td>31</td>\n",
       "      <td>{\"INP\": {\"pre\": 9, \"post\": 9}, \"CRE(R)\": {\"pre...</td>\n",
       "      <td>858604252</td>\n",
       "      <td>FB2C</td>\n",
       "      <td>{'INP': {'pre': 3, 'post': 3}, 'ATL(R)': {'pre...</td>\n",
       "    </tr>\n",
       "    <tr>\n",
       "      <th>4</th>\n",
       "      <td>1858901026</td>\n",
       "      <td>VP2+_adPN</td>\n",
       "      <td>30</td>\n",
       "      <td>{\"INP\": {\"pre\": 3, \"post\": 3}, \"ATL(R)\": {\"pre...</td>\n",
       "      <td>389311717</td>\n",
       "      <td>SMP188</td>\n",
       "      <td>35</td>\n",
       "      <td>{\"SNP(R)\": {\"pre\": 28, \"post\": 28}, \"SIP(R)\": ...</td>\n",
       "      <td>5813010148</td>\n",
       "      <td>FB1F</td>\n",
       "      <td>{'INP': {'pre': 3, 'post': 3}, 'ATL(R)': {'pre...</td>\n",
       "    </tr>\n",
       "  </tbody>\n",
       "</table>\n",
       "</div>"
      ],
      "text/plain": [
       "     a.bodyId     a.type  w.weight  \\\n",
       "0  1858901026  VP2+_adPN        30   \n",
       "1  1858901026  VP2+_adPN        30   \n",
       "2  1858901026  VP2+_adPN        30   \n",
       "3  1858901026  VP2+_adPN        30   \n",
       "4  1858901026  VP2+_adPN        30   \n",
       "\n",
       "                                           w.roiInfo   b.bodyId  b.type  \\\n",
       "0  {\"INP\": {\"pre\": 3, \"post\": 3}, \"ATL(R)\": {\"pre...  389311717  SMP188   \n",
       "1  {\"INP\": {\"pre\": 3, \"post\": 3}, \"ATL(R)\": {\"pre...  389311717  SMP188   \n",
       "2  {\"INP\": {\"pre\": 3, \"post\": 3}, \"ATL(R)\": {\"pre...  389311717  SMP188   \n",
       "3  {\"INP\": {\"pre\": 3, \"post\": 3}, \"ATL(R)\": {\"pre...  389311717  SMP188   \n",
       "4  {\"INP\": {\"pre\": 3, \"post\": 3}, \"ATL(R)\": {\"pre...  389311717  SMP188   \n",
       "\n",
       "   ww.weight                                         ww.roiInfo    c.bodyId  \\\n",
       "0         13  {\"SNP(R)\": {\"pre\": 9, \"post\": 9}, \"SMP(R)\": {\"...   513784136   \n",
       "1         13  {\"SNP(R)\": {\"pre\": 10, \"post\": 10}, \"SMP(R)\": ...   734801540   \n",
       "2         66  {\"LX(R)\": {\"pre\": 27, \"post\": 27}, \"LAL(R)\": {...   858587718   \n",
       "3         31  {\"INP\": {\"pre\": 9, \"post\": 9}, \"CRE(R)\": {\"pre...   858604252   \n",
       "4         35  {\"SNP(R)\": {\"pre\": 28, \"post\": 28}, \"SIP(R)\": ...  5813010148   \n",
       "\n",
       "  c.type                                              json1  \n",
       "0   FB1G  {'INP': {'pre': 3, 'post': 3}, 'ATL(R)': {'pre...  \n",
       "1   FB2D  {'INP': {'pre': 3, 'post': 3}, 'ATL(R)': {'pre...  \n",
       "2   ExR6  {'INP': {'pre': 3, 'post': 3}, 'ATL(R)': {'pre...  \n",
       "3   FB2C  {'INP': {'pre': 3, 'post': 3}, 'ATL(R)': {'pre...  \n",
       "4   FB1F  {'INP': {'pre': 3, 'post': 3}, 'ATL(R)': {'pre...  "
      ]
     },
     "execution_count": 5,
     "metadata": {},
     "output_type": "execute_result"
    }
   ],
   "source": [
    "# add a column where you read the column of interest as a json(dict)\n",
    "df['json1']=df[column].apply(json.loads)\n",
    "df.head()"
   ]
  },
  {
   "cell_type": "code",
   "execution_count": null,
   "metadata": {},
   "outputs": [],
   "source": []
  },
  {
   "cell_type": "code",
   "execution_count": 90,
   "metadata": {},
   "outputs": [],
   "source": [
    "def create__connectivity_plot(df_col):\n",
    "    \n",
    "    '''\n",
    "    \n",
    "    adds a synapse count column to 'hierarchy' that acts as a running \n",
    "    tally of the number of synapses in that ROI for a specific column\n",
    "    of a data frame (containing roiInfo)\n",
    "    \n",
    "    '''\n",
    "    \n",
    "    # read hierarchy or ROIs spreadsheet\n",
    "    hierarchy = pd.read_csv('ROI_hierarchycopy.csv')\n",
    "\n",
    "    # add a new column \"synapse count\" where each cell in that column = 0\n",
    "    hierarchy['synapse_count'] = [0]*len(hierarchy)\n",
    "    \n",
    "    \n",
    "    # count how many synapses are in each ROI \n",
    "    for roi_dict in df_col:\n",
    "        \n",
    "        for roi, syn in roi_dict.items():\n",
    "            \n",
    "            '''\n",
    "            \n",
    "            We need to count the number of synapses in this ROI on \n",
    "            this synapse between 2 neurons. We need pre OR post. \n",
    "            sometimes pre=1 and post = null if the synapse is on the \n",
    "            edge of an ROI. Account for that here:\n",
    "            \n",
    "            '''\n",
    "            try: \n",
    "                syn = syn['pre']\n",
    "            except:\n",
    "                syn = syn['post']\n",
    "                \n",
    "            '''\n",
    "            \n",
    "            add that syn number to that roi's synapse count in \n",
    "            the hierarchy graph\n",
    "            \n",
    "            '''\n",
    "                \n",
    "            hierarchy.loc[hierarchy[hierarchy['ROI_all'] == roi].index,'synapse_count'] += syn\n",
    "     \n",
    "    # remove rows with a synapse count of 0\n",
    "    hierarchy = hierarchy[hierarchy['synapse_count'] != 0]\n",
    "    \n",
    "    # remove rows where the global ROI is the same as the roi_all,\n",
    "    # unless there is only one row with that global ROI.\n",
    "    global_counts = (hierarchy['Global'].value_counts())\n",
    "    for idx, row in hierarchy.iterrows():\n",
    "        \n",
    "        if global_counts[row['Global']] == 1:\n",
    "            continue\n",
    "        elif row['ROI_all'] == row['Global']:\n",
    "            hierarchy.drop(idx, inplace=True)\n",
    "        else:\n",
    "            continue \n",
    "                \n",
    "    # this is only ploting Global ROIs and their direct sub ROIs. \n",
    "    sbplot = px.sunburst(hierarchy, path=['Global','ROI'], values='synapse_count')\n",
    "   \n",
    "    return sbplot\n",
    "    \n",
    "    "
   ]
  },
  {
   "cell_type": "code",
   "execution_count": 91,
   "metadata": {},
   "outputs": [
    {
     "data": {
      "application/vnd.plotly.v1+json": {
       "config": {
        "plotlyServerURL": "https://plot.ly"
       },
       "data": [
        {
         "branchvalues": "total",
         "domain": {
          "x": [
           0,
           1
          ],
          "y": [
           0,
           1
          ]
         },
         "hovertemplate": "labels=%{label}<br>synapse_count=%{value}<br>parent=%{parent}<br>id=%{id}<extra></extra>",
         "ids": [
          "AL(R)/AL-V(R)",
          "AL(R)/AL-VC5(R)",
          "AL(R)/AL-VP1d(R)",
          "AL(R)/AL-VP1l(R)",
          "AL(R)/AL-VP1m(R)",
          "AL(R)/AL-VP2(R)",
          "AL(R)/AL-VP3(R)",
          "AL(R)/AL-VP5(R)",
          "INP/ATL(R)",
          "VLNP(R)/AVLP(R)",
          "MB(+ACA)(R)/CA(R)",
          "VLNP(R)/PLP(R)",
          "INP/SCL(R)",
          "SNP(R)/SLP(R)",
          "SNP(R)/SMP(R)",
          "MB(+ACA)(R)/dACA(R)",
          "MB(+ACA)(R)/lACA(R)",
          "AL(R)",
          "INP",
          "LH(R)",
          "MB(+ACA)(R)",
          "SNP(R)",
          "VLNP(R)",
          "mALT(R)"
         ],
         "labels": [
          "AL-V(R)",
          "AL-VC5(R)",
          "AL-VP1d(R)",
          "AL-VP1l(R)",
          "AL-VP1m(R)",
          "AL-VP2(R)",
          "AL-VP3(R)",
          "AL-VP5(R)",
          "ATL(R)",
          "AVLP(R)",
          "CA(R)",
          "PLP(R)",
          "SCL(R)",
          "SLP(R)",
          "SMP(R)",
          "dACA(R)",
          "lACA(R)",
          "AL(R)",
          "INP",
          "LH(R)",
          "MB(+ACA)(R)",
          "SNP(R)",
          "VLNP(R)",
          "mALT(R)"
         ],
         "name": "",
         "parents": [
          "AL(R)",
          "AL(R)",
          "AL(R)",
          "AL(R)",
          "AL(R)",
          "AL(R)",
          "AL(R)",
          "AL(R)",
          "INP",
          "VLNP(R)",
          "MB(+ACA)(R)",
          "VLNP(R)",
          "INP",
          "SNP(R)",
          "SNP(R)",
          "MB(+ACA)(R)",
          "MB(+ACA)(R)",
          "",
          "",
          "",
          "",
          "",
          "",
          ""
         ],
         "type": "sunburst",
         "values": [
          6,
          5,
          2,
          4,
          67,
          16,
          11,
          84,
          67,
          13,
          19,
          806,
          954,
          2029,
          290,
          310,
          74,
          195,
          1021,
          170,
          403,
          2319,
          819,
          27
         ]
        }
       ],
       "layout": {
        "legend": {
         "tracegroupgap": 0
        },
        "margin": {
         "t": 60
        },
        "template": {
         "data": {
          "bar": [
           {
            "error_x": {
             "color": "#2a3f5f"
            },
            "error_y": {
             "color": "#2a3f5f"
            },
            "marker": {
             "line": {
              "color": "#E5ECF6",
              "width": 0.5
             }
            },
            "type": "bar"
           }
          ],
          "barpolar": [
           {
            "marker": {
             "line": {
              "color": "#E5ECF6",
              "width": 0.5
             }
            },
            "type": "barpolar"
           }
          ],
          "carpet": [
           {
            "aaxis": {
             "endlinecolor": "#2a3f5f",
             "gridcolor": "white",
             "linecolor": "white",
             "minorgridcolor": "white",
             "startlinecolor": "#2a3f5f"
            },
            "baxis": {
             "endlinecolor": "#2a3f5f",
             "gridcolor": "white",
             "linecolor": "white",
             "minorgridcolor": "white",
             "startlinecolor": "#2a3f5f"
            },
            "type": "carpet"
           }
          ],
          "choropleth": [
           {
            "colorbar": {
             "outlinewidth": 0,
             "ticks": ""
            },
            "type": "choropleth"
           }
          ],
          "contour": [
           {
            "colorbar": {
             "outlinewidth": 0,
             "ticks": ""
            },
            "colorscale": [
             [
              0,
              "#0d0887"
             ],
             [
              0.1111111111111111,
              "#46039f"
             ],
             [
              0.2222222222222222,
              "#7201a8"
             ],
             [
              0.3333333333333333,
              "#9c179e"
             ],
             [
              0.4444444444444444,
              "#bd3786"
             ],
             [
              0.5555555555555556,
              "#d8576b"
             ],
             [
              0.6666666666666666,
              "#ed7953"
             ],
             [
              0.7777777777777778,
              "#fb9f3a"
             ],
             [
              0.8888888888888888,
              "#fdca26"
             ],
             [
              1,
              "#f0f921"
             ]
            ],
            "type": "contour"
           }
          ],
          "contourcarpet": [
           {
            "colorbar": {
             "outlinewidth": 0,
             "ticks": ""
            },
            "type": "contourcarpet"
           }
          ],
          "heatmap": [
           {
            "colorbar": {
             "outlinewidth": 0,
             "ticks": ""
            },
            "colorscale": [
             [
              0,
              "#0d0887"
             ],
             [
              0.1111111111111111,
              "#46039f"
             ],
             [
              0.2222222222222222,
              "#7201a8"
             ],
             [
              0.3333333333333333,
              "#9c179e"
             ],
             [
              0.4444444444444444,
              "#bd3786"
             ],
             [
              0.5555555555555556,
              "#d8576b"
             ],
             [
              0.6666666666666666,
              "#ed7953"
             ],
             [
              0.7777777777777778,
              "#fb9f3a"
             ],
             [
              0.8888888888888888,
              "#fdca26"
             ],
             [
              1,
              "#f0f921"
             ]
            ],
            "type": "heatmap"
           }
          ],
          "heatmapgl": [
           {
            "colorbar": {
             "outlinewidth": 0,
             "ticks": ""
            },
            "colorscale": [
             [
              0,
              "#0d0887"
             ],
             [
              0.1111111111111111,
              "#46039f"
             ],
             [
              0.2222222222222222,
              "#7201a8"
             ],
             [
              0.3333333333333333,
              "#9c179e"
             ],
             [
              0.4444444444444444,
              "#bd3786"
             ],
             [
              0.5555555555555556,
              "#d8576b"
             ],
             [
              0.6666666666666666,
              "#ed7953"
             ],
             [
              0.7777777777777778,
              "#fb9f3a"
             ],
             [
              0.8888888888888888,
              "#fdca26"
             ],
             [
              1,
              "#f0f921"
             ]
            ],
            "type": "heatmapgl"
           }
          ],
          "histogram": [
           {
            "marker": {
             "colorbar": {
              "outlinewidth": 0,
              "ticks": ""
             }
            },
            "type": "histogram"
           }
          ],
          "histogram2d": [
           {
            "colorbar": {
             "outlinewidth": 0,
             "ticks": ""
            },
            "colorscale": [
             [
              0,
              "#0d0887"
             ],
             [
              0.1111111111111111,
              "#46039f"
             ],
             [
              0.2222222222222222,
              "#7201a8"
             ],
             [
              0.3333333333333333,
              "#9c179e"
             ],
             [
              0.4444444444444444,
              "#bd3786"
             ],
             [
              0.5555555555555556,
              "#d8576b"
             ],
             [
              0.6666666666666666,
              "#ed7953"
             ],
             [
              0.7777777777777778,
              "#fb9f3a"
             ],
             [
              0.8888888888888888,
              "#fdca26"
             ],
             [
              1,
              "#f0f921"
             ]
            ],
            "type": "histogram2d"
           }
          ],
          "histogram2dcontour": [
           {
            "colorbar": {
             "outlinewidth": 0,
             "ticks": ""
            },
            "colorscale": [
             [
              0,
              "#0d0887"
             ],
             [
              0.1111111111111111,
              "#46039f"
             ],
             [
              0.2222222222222222,
              "#7201a8"
             ],
             [
              0.3333333333333333,
              "#9c179e"
             ],
             [
              0.4444444444444444,
              "#bd3786"
             ],
             [
              0.5555555555555556,
              "#d8576b"
             ],
             [
              0.6666666666666666,
              "#ed7953"
             ],
             [
              0.7777777777777778,
              "#fb9f3a"
             ],
             [
              0.8888888888888888,
              "#fdca26"
             ],
             [
              1,
              "#f0f921"
             ]
            ],
            "type": "histogram2dcontour"
           }
          ],
          "mesh3d": [
           {
            "colorbar": {
             "outlinewidth": 0,
             "ticks": ""
            },
            "type": "mesh3d"
           }
          ],
          "parcoords": [
           {
            "line": {
             "colorbar": {
              "outlinewidth": 0,
              "ticks": ""
             }
            },
            "type": "parcoords"
           }
          ],
          "pie": [
           {
            "automargin": true,
            "type": "pie"
           }
          ],
          "scatter": [
           {
            "marker": {
             "colorbar": {
              "outlinewidth": 0,
              "ticks": ""
             }
            },
            "type": "scatter"
           }
          ],
          "scatter3d": [
           {
            "line": {
             "colorbar": {
              "outlinewidth": 0,
              "ticks": ""
             }
            },
            "marker": {
             "colorbar": {
              "outlinewidth": 0,
              "ticks": ""
             }
            },
            "type": "scatter3d"
           }
          ],
          "scattercarpet": [
           {
            "marker": {
             "colorbar": {
              "outlinewidth": 0,
              "ticks": ""
             }
            },
            "type": "scattercarpet"
           }
          ],
          "scattergeo": [
           {
            "marker": {
             "colorbar": {
              "outlinewidth": 0,
              "ticks": ""
             }
            },
            "type": "scattergeo"
           }
          ],
          "scattergl": [
           {
            "marker": {
             "colorbar": {
              "outlinewidth": 0,
              "ticks": ""
             }
            },
            "type": "scattergl"
           }
          ],
          "scattermapbox": [
           {
            "marker": {
             "colorbar": {
              "outlinewidth": 0,
              "ticks": ""
             }
            },
            "type": "scattermapbox"
           }
          ],
          "scatterpolar": [
           {
            "marker": {
             "colorbar": {
              "outlinewidth": 0,
              "ticks": ""
             }
            },
            "type": "scatterpolar"
           }
          ],
          "scatterpolargl": [
           {
            "marker": {
             "colorbar": {
              "outlinewidth": 0,
              "ticks": ""
             }
            },
            "type": "scatterpolargl"
           }
          ],
          "scatterternary": [
           {
            "marker": {
             "colorbar": {
              "outlinewidth": 0,
              "ticks": ""
             }
            },
            "type": "scatterternary"
           }
          ],
          "surface": [
           {
            "colorbar": {
             "outlinewidth": 0,
             "ticks": ""
            },
            "colorscale": [
             [
              0,
              "#0d0887"
             ],
             [
              0.1111111111111111,
              "#46039f"
             ],
             [
              0.2222222222222222,
              "#7201a8"
             ],
             [
              0.3333333333333333,
              "#9c179e"
             ],
             [
              0.4444444444444444,
              "#bd3786"
             ],
             [
              0.5555555555555556,
              "#d8576b"
             ],
             [
              0.6666666666666666,
              "#ed7953"
             ],
             [
              0.7777777777777778,
              "#fb9f3a"
             ],
             [
              0.8888888888888888,
              "#fdca26"
             ],
             [
              1,
              "#f0f921"
             ]
            ],
            "type": "surface"
           }
          ],
          "table": [
           {
            "cells": {
             "fill": {
              "color": "#EBF0F8"
             },
             "line": {
              "color": "white"
             }
            },
            "header": {
             "fill": {
              "color": "#C8D4E3"
             },
             "line": {
              "color": "white"
             }
            },
            "type": "table"
           }
          ]
         },
         "layout": {
          "annotationdefaults": {
           "arrowcolor": "#2a3f5f",
           "arrowhead": 0,
           "arrowwidth": 1
          },
          "coloraxis": {
           "colorbar": {
            "outlinewidth": 0,
            "ticks": ""
           }
          },
          "colorscale": {
           "diverging": [
            [
             0,
             "#8e0152"
            ],
            [
             0.1,
             "#c51b7d"
            ],
            [
             0.2,
             "#de77ae"
            ],
            [
             0.3,
             "#f1b6da"
            ],
            [
             0.4,
             "#fde0ef"
            ],
            [
             0.5,
             "#f7f7f7"
            ],
            [
             0.6,
             "#e6f5d0"
            ],
            [
             0.7,
             "#b8e186"
            ],
            [
             0.8,
             "#7fbc41"
            ],
            [
             0.9,
             "#4d9221"
            ],
            [
             1,
             "#276419"
            ]
           ],
           "sequential": [
            [
             0,
             "#0d0887"
            ],
            [
             0.1111111111111111,
             "#46039f"
            ],
            [
             0.2222222222222222,
             "#7201a8"
            ],
            [
             0.3333333333333333,
             "#9c179e"
            ],
            [
             0.4444444444444444,
             "#bd3786"
            ],
            [
             0.5555555555555556,
             "#d8576b"
            ],
            [
             0.6666666666666666,
             "#ed7953"
            ],
            [
             0.7777777777777778,
             "#fb9f3a"
            ],
            [
             0.8888888888888888,
             "#fdca26"
            ],
            [
             1,
             "#f0f921"
            ]
           ],
           "sequentialminus": [
            [
             0,
             "#0d0887"
            ],
            [
             0.1111111111111111,
             "#46039f"
            ],
            [
             0.2222222222222222,
             "#7201a8"
            ],
            [
             0.3333333333333333,
             "#9c179e"
            ],
            [
             0.4444444444444444,
             "#bd3786"
            ],
            [
             0.5555555555555556,
             "#d8576b"
            ],
            [
             0.6666666666666666,
             "#ed7953"
            ],
            [
             0.7777777777777778,
             "#fb9f3a"
            ],
            [
             0.8888888888888888,
             "#fdca26"
            ],
            [
             1,
             "#f0f921"
            ]
           ]
          },
          "colorway": [
           "#636efa",
           "#EF553B",
           "#00cc96",
           "#ab63fa",
           "#FFA15A",
           "#19d3f3",
           "#FF6692",
           "#B6E880",
           "#FF97FF",
           "#FECB52"
          ],
          "font": {
           "color": "#2a3f5f"
          },
          "geo": {
           "bgcolor": "white",
           "lakecolor": "white",
           "landcolor": "#E5ECF6",
           "showlakes": true,
           "showland": true,
           "subunitcolor": "white"
          },
          "hoverlabel": {
           "align": "left"
          },
          "hovermode": "closest",
          "mapbox": {
           "style": "light"
          },
          "paper_bgcolor": "white",
          "plot_bgcolor": "#E5ECF6",
          "polar": {
           "angularaxis": {
            "gridcolor": "white",
            "linecolor": "white",
            "ticks": ""
           },
           "bgcolor": "#E5ECF6",
           "radialaxis": {
            "gridcolor": "white",
            "linecolor": "white",
            "ticks": ""
           }
          },
          "scene": {
           "xaxis": {
            "backgroundcolor": "#E5ECF6",
            "gridcolor": "white",
            "gridwidth": 2,
            "linecolor": "white",
            "showbackground": true,
            "ticks": "",
            "zerolinecolor": "white"
           },
           "yaxis": {
            "backgroundcolor": "#E5ECF6",
            "gridcolor": "white",
            "gridwidth": 2,
            "linecolor": "white",
            "showbackground": true,
            "ticks": "",
            "zerolinecolor": "white"
           },
           "zaxis": {
            "backgroundcolor": "#E5ECF6",
            "gridcolor": "white",
            "gridwidth": 2,
            "linecolor": "white",
            "showbackground": true,
            "ticks": "",
            "zerolinecolor": "white"
           }
          },
          "shapedefaults": {
           "line": {
            "color": "#2a3f5f"
           }
          },
          "ternary": {
           "aaxis": {
            "gridcolor": "white",
            "linecolor": "white",
            "ticks": ""
           },
           "baxis": {
            "gridcolor": "white",
            "linecolor": "white",
            "ticks": ""
           },
           "bgcolor": "#E5ECF6",
           "caxis": {
            "gridcolor": "white",
            "linecolor": "white",
            "ticks": ""
           }
          },
          "title": {
           "x": 0.05
          },
          "xaxis": {
           "automargin": true,
           "gridcolor": "white",
           "linecolor": "white",
           "ticks": "",
           "title": {
            "standoff": 15
           },
           "zerolinecolor": "white",
           "zerolinewidth": 2
          },
          "yaxis": {
           "automargin": true,
           "gridcolor": "white",
           "linecolor": "white",
           "ticks": "",
           "title": {
            "standoff": 15
           },
           "zerolinecolor": "white",
           "zerolinewidth": 2
          }
         }
        }
       }
      },
      "text/html": [
       "<div>                            <div id=\"ce852a56-7610-453a-9c13-61eef08e1f36\" class=\"plotly-graph-div\" style=\"height:525px; width:100%;\"></div>            <script type=\"text/javascript\">                require([\"plotly\"], function(Plotly) {                    window.PLOTLYENV=window.PLOTLYENV || {};                                    if (document.getElementById(\"ce852a56-7610-453a-9c13-61eef08e1f36\")) {                    Plotly.newPlot(                        \"ce852a56-7610-453a-9c13-61eef08e1f36\",                        [{\"branchvalues\": \"total\", \"domain\": {\"x\": [0.0, 1.0], \"y\": [0.0, 1.0]}, \"hovertemplate\": \"labels=%{label}<br>synapse_count=%{value}<br>parent=%{parent}<br>id=%{id}<extra></extra>\", \"ids\": [\"AL(R)/AL-V(R)\", \"AL(R)/AL-VC5(R)\", \"AL(R)/AL-VP1d(R)\", \"AL(R)/AL-VP1l(R)\", \"AL(R)/AL-VP1m(R)\", \"AL(R)/AL-VP2(R)\", \"AL(R)/AL-VP3(R)\", \"AL(R)/AL-VP5(R)\", \"INP/ATL(R)\", \"VLNP(R)/AVLP(R)\", \"MB(+ACA)(R)/CA(R)\", \"VLNP(R)/PLP(R)\", \"INP/SCL(R)\", \"SNP(R)/SLP(R)\", \"SNP(R)/SMP(R)\", \"MB(+ACA)(R)/dACA(R)\", \"MB(+ACA)(R)/lACA(R)\", \"AL(R)\", \"INP\", \"LH(R)\", \"MB(+ACA)(R)\", \"SNP(R)\", \"VLNP(R)\", \"mALT(R)\"], \"labels\": [\"AL-V(R)\", \"AL-VC5(R)\", \"AL-VP1d(R)\", \"AL-VP1l(R)\", \"AL-VP1m(R)\", \"AL-VP2(R)\", \"AL-VP3(R)\", \"AL-VP5(R)\", \"ATL(R)\", \"AVLP(R)\", \"CA(R)\", \"PLP(R)\", \"SCL(R)\", \"SLP(R)\", \"SMP(R)\", \"dACA(R)\", \"lACA(R)\", \"AL(R)\", \"INP\", \"LH(R)\", \"MB(+ACA)(R)\", \"SNP(R)\", \"VLNP(R)\", \"mALT(R)\"], \"name\": \"\", \"parents\": [\"AL(R)\", \"AL(R)\", \"AL(R)\", \"AL(R)\", \"AL(R)\", \"AL(R)\", \"AL(R)\", \"AL(R)\", \"INP\", \"VLNP(R)\", \"MB(+ACA)(R)\", \"VLNP(R)\", \"INP\", \"SNP(R)\", \"SNP(R)\", \"MB(+ACA)(R)\", \"MB(+ACA)(R)\", \"\", \"\", \"\", \"\", \"\", \"\", \"\"], \"type\": \"sunburst\", \"values\": [6, 5, 2, 4, 67, 16, 11, 84, 67, 13, 19, 806, 954, 2029, 290, 310, 74, 195, 1021, 170, 403, 2319, 819, 27]}],                        {\"legend\": {\"tracegroupgap\": 0}, \"margin\": {\"t\": 60}, \"template\": {\"data\": {\"bar\": [{\"error_x\": {\"color\": \"#2a3f5f\"}, \"error_y\": {\"color\": \"#2a3f5f\"}, \"marker\": {\"line\": {\"color\": \"#E5ECF6\", \"width\": 0.5}}, \"type\": \"bar\"}], \"barpolar\": [{\"marker\": {\"line\": {\"color\": \"#E5ECF6\", \"width\": 0.5}}, \"type\": \"barpolar\"}], \"carpet\": [{\"aaxis\": {\"endlinecolor\": \"#2a3f5f\", \"gridcolor\": \"white\", \"linecolor\": \"white\", \"minorgridcolor\": \"white\", \"startlinecolor\": \"#2a3f5f\"}, \"baxis\": {\"endlinecolor\": \"#2a3f5f\", \"gridcolor\": \"white\", \"linecolor\": \"white\", \"minorgridcolor\": \"white\", \"startlinecolor\": \"#2a3f5f\"}, \"type\": \"carpet\"}], \"choropleth\": [{\"colorbar\": {\"outlinewidth\": 0, \"ticks\": \"\"}, \"type\": \"choropleth\"}], \"contour\": [{\"colorbar\": {\"outlinewidth\": 0, \"ticks\": \"\"}, \"colorscale\": [[0.0, \"#0d0887\"], [0.1111111111111111, \"#46039f\"], [0.2222222222222222, \"#7201a8\"], [0.3333333333333333, \"#9c179e\"], [0.4444444444444444, \"#bd3786\"], [0.5555555555555556, \"#d8576b\"], [0.6666666666666666, \"#ed7953\"], [0.7777777777777778, \"#fb9f3a\"], [0.8888888888888888, \"#fdca26\"], [1.0, \"#f0f921\"]], \"type\": \"contour\"}], \"contourcarpet\": [{\"colorbar\": {\"outlinewidth\": 0, \"ticks\": \"\"}, \"type\": \"contourcarpet\"}], \"heatmap\": [{\"colorbar\": {\"outlinewidth\": 0, \"ticks\": \"\"}, \"colorscale\": [[0.0, \"#0d0887\"], [0.1111111111111111, \"#46039f\"], [0.2222222222222222, \"#7201a8\"], [0.3333333333333333, \"#9c179e\"], [0.4444444444444444, \"#bd3786\"], [0.5555555555555556, \"#d8576b\"], [0.6666666666666666, \"#ed7953\"], [0.7777777777777778, \"#fb9f3a\"], [0.8888888888888888, \"#fdca26\"], [1.0, \"#f0f921\"]], \"type\": \"heatmap\"}], \"heatmapgl\": [{\"colorbar\": {\"outlinewidth\": 0, \"ticks\": \"\"}, \"colorscale\": [[0.0, \"#0d0887\"], [0.1111111111111111, \"#46039f\"], [0.2222222222222222, \"#7201a8\"], [0.3333333333333333, \"#9c179e\"], [0.4444444444444444, \"#bd3786\"], [0.5555555555555556, \"#d8576b\"], [0.6666666666666666, \"#ed7953\"], [0.7777777777777778, \"#fb9f3a\"], [0.8888888888888888, \"#fdca26\"], [1.0, \"#f0f921\"]], \"type\": \"heatmapgl\"}], \"histogram\": [{\"marker\": {\"colorbar\": {\"outlinewidth\": 0, \"ticks\": \"\"}}, \"type\": \"histogram\"}], \"histogram2d\": [{\"colorbar\": {\"outlinewidth\": 0, \"ticks\": \"\"}, \"colorscale\": [[0.0, \"#0d0887\"], [0.1111111111111111, \"#46039f\"], [0.2222222222222222, \"#7201a8\"], [0.3333333333333333, \"#9c179e\"], [0.4444444444444444, \"#bd3786\"], [0.5555555555555556, \"#d8576b\"], [0.6666666666666666, \"#ed7953\"], [0.7777777777777778, \"#fb9f3a\"], [0.8888888888888888, \"#fdca26\"], [1.0, \"#f0f921\"]], \"type\": \"histogram2d\"}], \"histogram2dcontour\": [{\"colorbar\": {\"outlinewidth\": 0, \"ticks\": \"\"}, \"colorscale\": [[0.0, \"#0d0887\"], [0.1111111111111111, \"#46039f\"], [0.2222222222222222, \"#7201a8\"], [0.3333333333333333, \"#9c179e\"], [0.4444444444444444, \"#bd3786\"], [0.5555555555555556, \"#d8576b\"], [0.6666666666666666, \"#ed7953\"], [0.7777777777777778, \"#fb9f3a\"], [0.8888888888888888, \"#fdca26\"], [1.0, \"#f0f921\"]], \"type\": \"histogram2dcontour\"}], \"mesh3d\": [{\"colorbar\": {\"outlinewidth\": 0, \"ticks\": \"\"}, \"type\": \"mesh3d\"}], \"parcoords\": [{\"line\": {\"colorbar\": {\"outlinewidth\": 0, \"ticks\": \"\"}}, \"type\": \"parcoords\"}], \"pie\": [{\"automargin\": true, \"type\": \"pie\"}], \"scatter\": [{\"marker\": {\"colorbar\": {\"outlinewidth\": 0, \"ticks\": \"\"}}, \"type\": \"scatter\"}], \"scatter3d\": [{\"line\": {\"colorbar\": {\"outlinewidth\": 0, \"ticks\": \"\"}}, \"marker\": {\"colorbar\": {\"outlinewidth\": 0, \"ticks\": \"\"}}, \"type\": \"scatter3d\"}], \"scattercarpet\": [{\"marker\": {\"colorbar\": {\"outlinewidth\": 0, \"ticks\": \"\"}}, \"type\": \"scattercarpet\"}], \"scattergeo\": [{\"marker\": {\"colorbar\": {\"outlinewidth\": 0, \"ticks\": \"\"}}, \"type\": \"scattergeo\"}], \"scattergl\": [{\"marker\": {\"colorbar\": {\"outlinewidth\": 0, \"ticks\": \"\"}}, \"type\": \"scattergl\"}], \"scattermapbox\": [{\"marker\": {\"colorbar\": {\"outlinewidth\": 0, \"ticks\": \"\"}}, \"type\": \"scattermapbox\"}], \"scatterpolar\": [{\"marker\": {\"colorbar\": {\"outlinewidth\": 0, \"ticks\": \"\"}}, \"type\": \"scatterpolar\"}], \"scatterpolargl\": [{\"marker\": {\"colorbar\": {\"outlinewidth\": 0, \"ticks\": \"\"}}, \"type\": \"scatterpolargl\"}], \"scatterternary\": [{\"marker\": {\"colorbar\": {\"outlinewidth\": 0, \"ticks\": \"\"}}, \"type\": \"scatterternary\"}], \"surface\": [{\"colorbar\": {\"outlinewidth\": 0, \"ticks\": \"\"}, \"colorscale\": [[0.0, \"#0d0887\"], [0.1111111111111111, \"#46039f\"], [0.2222222222222222, \"#7201a8\"], [0.3333333333333333, \"#9c179e\"], [0.4444444444444444, \"#bd3786\"], [0.5555555555555556, \"#d8576b\"], [0.6666666666666666, \"#ed7953\"], [0.7777777777777778, \"#fb9f3a\"], [0.8888888888888888, \"#fdca26\"], [1.0, \"#f0f921\"]], \"type\": \"surface\"}], \"table\": [{\"cells\": {\"fill\": {\"color\": \"#EBF0F8\"}, \"line\": {\"color\": \"white\"}}, \"header\": {\"fill\": {\"color\": \"#C8D4E3\"}, \"line\": {\"color\": \"white\"}}, \"type\": \"table\"}]}, \"layout\": {\"annotationdefaults\": {\"arrowcolor\": \"#2a3f5f\", \"arrowhead\": 0, \"arrowwidth\": 1}, \"coloraxis\": {\"colorbar\": {\"outlinewidth\": 0, \"ticks\": \"\"}}, \"colorscale\": {\"diverging\": [[0, \"#8e0152\"], [0.1, \"#c51b7d\"], [0.2, \"#de77ae\"], [0.3, \"#f1b6da\"], [0.4, \"#fde0ef\"], [0.5, \"#f7f7f7\"], [0.6, \"#e6f5d0\"], [0.7, \"#b8e186\"], [0.8, \"#7fbc41\"], [0.9, \"#4d9221\"], [1, \"#276419\"]], \"sequential\": [[0.0, \"#0d0887\"], [0.1111111111111111, \"#46039f\"], [0.2222222222222222, \"#7201a8\"], [0.3333333333333333, \"#9c179e\"], [0.4444444444444444, \"#bd3786\"], [0.5555555555555556, \"#d8576b\"], [0.6666666666666666, \"#ed7953\"], [0.7777777777777778, \"#fb9f3a\"], [0.8888888888888888, \"#fdca26\"], [1.0, \"#f0f921\"]], \"sequentialminus\": [[0.0, \"#0d0887\"], [0.1111111111111111, \"#46039f\"], [0.2222222222222222, \"#7201a8\"], [0.3333333333333333, \"#9c179e\"], [0.4444444444444444, \"#bd3786\"], [0.5555555555555556, \"#d8576b\"], [0.6666666666666666, \"#ed7953\"], [0.7777777777777778, \"#fb9f3a\"], [0.8888888888888888, \"#fdca26\"], [1.0, \"#f0f921\"]]}, \"colorway\": [\"#636efa\", \"#EF553B\", \"#00cc96\", \"#ab63fa\", \"#FFA15A\", \"#19d3f3\", \"#FF6692\", \"#B6E880\", \"#FF97FF\", \"#FECB52\"], \"font\": {\"color\": \"#2a3f5f\"}, \"geo\": {\"bgcolor\": \"white\", \"lakecolor\": \"white\", \"landcolor\": \"#E5ECF6\", \"showlakes\": true, \"showland\": true, \"subunitcolor\": \"white\"}, \"hoverlabel\": {\"align\": \"left\"}, \"hovermode\": \"closest\", \"mapbox\": {\"style\": \"light\"}, \"paper_bgcolor\": \"white\", \"plot_bgcolor\": \"#E5ECF6\", \"polar\": {\"angularaxis\": {\"gridcolor\": \"white\", \"linecolor\": \"white\", \"ticks\": \"\"}, \"bgcolor\": \"#E5ECF6\", \"radialaxis\": {\"gridcolor\": \"white\", \"linecolor\": \"white\", \"ticks\": \"\"}}, \"scene\": {\"xaxis\": {\"backgroundcolor\": \"#E5ECF6\", \"gridcolor\": \"white\", \"gridwidth\": 2, \"linecolor\": \"white\", \"showbackground\": true, \"ticks\": \"\", \"zerolinecolor\": \"white\"}, \"yaxis\": {\"backgroundcolor\": \"#E5ECF6\", \"gridcolor\": \"white\", \"gridwidth\": 2, \"linecolor\": \"white\", \"showbackground\": true, \"ticks\": \"\", \"zerolinecolor\": \"white\"}, \"zaxis\": {\"backgroundcolor\": \"#E5ECF6\", \"gridcolor\": \"white\", \"gridwidth\": 2, \"linecolor\": \"white\", \"showbackground\": true, \"ticks\": \"\", \"zerolinecolor\": \"white\"}}, \"shapedefaults\": {\"line\": {\"color\": \"#2a3f5f\"}}, \"ternary\": {\"aaxis\": {\"gridcolor\": \"white\", \"linecolor\": \"white\", \"ticks\": \"\"}, \"baxis\": {\"gridcolor\": \"white\", \"linecolor\": \"white\", \"ticks\": \"\"}, \"bgcolor\": \"#E5ECF6\", \"caxis\": {\"gridcolor\": \"white\", \"linecolor\": \"white\", \"ticks\": \"\"}}, \"title\": {\"x\": 0.05}, \"xaxis\": {\"automargin\": true, \"gridcolor\": \"white\", \"linecolor\": \"white\", \"ticks\": \"\", \"title\": {\"standoff\": 15}, \"zerolinecolor\": \"white\", \"zerolinewidth\": 2}, \"yaxis\": {\"automargin\": true, \"gridcolor\": \"white\", \"linecolor\": \"white\", \"ticks\": \"\", \"title\": {\"standoff\": 15}, \"zerolinecolor\": \"white\", \"zerolinewidth\": 2}}}},                        {\"responsive\": true}                    ).then(function(){\n",
       "                            \n",
       "var gd = document.getElementById('ce852a56-7610-453a-9c13-61eef08e1f36');\n",
       "var x = new MutationObserver(function (mutations, observer) {{\n",
       "        var display = window.getComputedStyle(gd).display;\n",
       "        if (!display || display === 'none') {{\n",
       "            console.log([gd, 'removed!']);\n",
       "            Plotly.purge(gd);\n",
       "            observer.disconnect();\n",
       "        }}\n",
       "}});\n",
       "\n",
       "// Listen for the removal of the full notebook cells\n",
       "var notebookContainer = gd.closest('#notebook-container');\n",
       "if (notebookContainer) {{\n",
       "    x.observe(notebookContainer, {childList: true});\n",
       "}}\n",
       "\n",
       "// Listen for the clearing of the current output cell\n",
       "var outputEl = gd.closest('.output');\n",
       "if (outputEl) {{\n",
       "    x.observe(outputEl, {childList: true});\n",
       "}}\n",
       "\n",
       "                        })                };                });            </script>        </div>"
      ]
     },
     "metadata": {},
     "output_type": "display_data"
    }
   ],
   "source": [
    "sbplot1 = create__connectivity_plot(df['json1'])\n",
    "sbplot1"
   ]
  },
  {
   "cell_type": "code",
   "execution_count": null,
   "metadata": {},
   "outputs": [],
   "source": []
  },
  {
   "cell_type": "code",
   "execution_count": null,
   "metadata": {},
   "outputs": [],
   "source": []
  }
 ],
 "metadata": {
  "kernelspec": {
   "display_name": "neuprint-python",
   "language": "python",
   "name": "neuprint-python"
  },
  "language_info": {
   "codemirror_mode": {
    "name": "ipython",
    "version": 3
   },
   "file_extension": ".py",
   "mimetype": "text/x-python",
   "name": "python",
   "nbconvert_exporter": "python",
   "pygments_lexer": "ipython3",
   "version": "3.7.7"
  }
 },
 "nbformat": 4,
 "nbformat_minor": 4
}
